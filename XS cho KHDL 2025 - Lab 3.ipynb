{
 "cells": [
  {
   "cell_type": "markdown",
   "metadata": {},
   "source": [
    "## XÁC SUẤT TRONG KHOA HỌC DỮ LIỆU IUH 2025\n",
    "\n",
    "### Lab 3. Xác suất có điều kiện (ngày 17/02)"
   ]
  },
  {
   "cell_type": "markdown",
   "metadata": {},
   "source": [
    "## Tóm lược lý thuyết\n",
    "\n",
    "### Xác suất có điều kiện\n",
    "\n",
    "**Xác suất có điều kiện** (conditional probability) của biến cố $E_2$ khi biết biến cố $E_1$ đã xảy ra được định nghĩa là:\n",
    "$$P(E_2 | E_1) = \\frac{P(E_1.E_2)}{P(E_1)}$$\n",
    "với $P(E_1 ) > 0$.\n",
    "\n",
    "Các lưu ý về xác suất có điều kiện:\n",
    "* $P(E_2 | E_1)$ có thể hiểu là xác suất của $E_2$ \"tính trong không gian mẫu mới\" là $E_1$.\n",
    "* Cho biến cố $E_0$ với $P(E_0) > 0$ thì $P(. | E_0)$ là cách gắn xác suất (độ đo xác suất) hợp lệ.\n",
    "* Mọi tiên đề, tính chất, công thức xác suất đều đúng cho xác suất có điều kiện. Nói cách khác, các công thức xác suất vẫn đúng khi \"điều kiện hóa\".\n",
    "* $P(E) = P(E | \\Omega)$.\n",
    "\n",
    "**Công thức nhân xác suất** (multiplication law of probability):\n",
    "$$P(E_1 \\cap E_2) = P(E_1) \\times P(E_2 | E_1)$$\n",
    "$$P(E_1 \\cap E_2 \\cap E_3 \\cap ... \\cap E_n) = P(E_1) \\times P(E_2 | E_1) \\times P(E_3 | E_1 \\cap E_2) \\times ... \\times P(E_n | E_1 \\cap E_2 \\cap ... \\cap E_{n-1})$$\n",
    "Trong nhiều trường hợp, xác suất có điều kiện dễ tính hơn \"xác suất đồng thời\".\n",
    "\n",
    "Họ các biến cố $\\{A_1, A_2, ..., A_n\\}$ được gọi là một **họ đầy đủ** hay một **phân hoạch** (partition) của $\\Omega$ nếu:\n",
    "  * $A_i \\cap A_j = \\emptyset, \\forall i \\ne j$ \n",
    "  * $\\Omega = A_1 \\cup A_2 \\cup ... \\cup A_n$\n",
    "  * $P(A_i) > 0, \\forall i$\n",
    "\n",
    "Nói cách khác, $A_1, A_2, ..., A_n$ là một cách chia trường hợp \"không trùng, không sót\" của $\\Omega$.\n",
    "\n",
    "**Công thức xác suất toàn phần** (law of total probability): Cho họ đầy đủ $\\{A_1, A_2, ..., A_n\\}$ của $\\Omega$, với mọi biến cố $E$ ta có:\n",
    "$$P(E) = \\sum_{i=1}^{n} P(E \\cap A_i) = \\sum_{i=1}^{n} P(A_i)P(E | A_i)$$\n",
    "\n",
    "Đặc biệt, với $A \\subset \\Omega, 0 < P(A) < 1$:\n",
    "$$P(E) = P(E \\cap A) + P(E \\cap A^c) = P(A)P(E | A) + P(A^c)P(E | A^c)$$\n",
    "\n",
    "**Sơ đồ cây** (tree diagram) thường được dùng để xét các trường hợp và hỗ trợ tính xác suất các biến cố trong \"thí nghiệm nhiều giai đoạn\" rất trực quan.\n",
    "\n",
    "**Định lý Bayes** (Bayes' theorem): Cho họ đầy đủ $\\{A_1, A_2, ..., A_n\\}$ của $\\Omega$ và biến cố $E$, $P(E) > 0$. Khi đó, $\\forall i = 1, ..., n$ ta có:\n",
    "$$P(A_i | E) = \\frac{P(A_i)P(E|A_i)}{P(E)} = \\frac{P(A_i)P(E|A_i)}{\\sum_{j=1}^{n}P(A_j)P(E|A_j)}$$\n",
    "  * $P(A_i)$: **xác suất tiên nghiệm** (prior probability) của $A_i$\n",
    "  * $P(A_i | E)$: **xác suất hậu nghiệm** (posterior probability) của $A_i$ khi biết $E$\n",
    "  * $P(E | A_i)$: **xác suất hợp lý** (likelihood) của $E$ theo $A_i$\n",
    "  * Lưu ý, $P(E)$ không phụ thuộc vào $A_i$ nên:\n",
    "  $$P(A_i | E) \\propto P(A_i)P(E | A_i)$$\n",
    "  (kí hiệu $\\propto$ là \"tỉ lệ với\")"
   ]
  },
  {
   "cell_type": "markdown",
   "metadata": {},
   "source": [
    "### Độc lập xác suất\n",
    "\n",
    "2 biến cố $\\{E, F\\}$ được gọi là **độc lập** (independent) nhau nếu:\n",
    "$$P(E \\cap F) = P(E)P(F)$$\n",
    "\n",
    "$\\{E, F\\}$ độc lập nếu $P(E|F) = P(E)$ ($P(F) > 0)$ hay $P(F|E) = P(F)$ ($P(E) > 0)$\n",
    "\n",
    "2 biến cố $\\{E, F\\}$ được gọi là **độc lập có điều kiện** (conditionally independent) khi biết $A$ ($P(A) > 0$) nếu:\n",
    "$$P(E \\cap F | A) = P(E | A)P(F | A)$$\n",
    "\n",
    "$\\{E, F\\}$ độc lập có điều kiện khi biết $A$ nếu $P(E|F \\cap A) = P(E | A)$ ($P(F | A) > 0)$ hay $P(F|E \\cap A) = P(F | A)$ ($P(E | A) > 0)$\n",
    "\n",
    "Họ các biến cố $\\{A_1, A_2, ..., A_n\\}$ được gọi là độc lập nếu với mọi tập con khác rỗng, hữu hạn $\\{B_1, B_2, ..., B_k\\}$ của họ, ta có:\n",
    "$$P(B_1 \\cap B_2 \\cap ... \\cap B_k) = P(B_1)P(B_2)...P(B_k)$$\n",
    "\n",
    "**Mô hình xác suất \"lặp lại thí nghiệm độc lập\"**: thực hiện lặp lại thí nghiệm $T$ nhiều lần một cách độc lập, gọi $A_i$ là biến cố \"liên quan đến lần thực hiện thứ $i$\" thì ta có công thức tính xác suất:\n",
    "$$P(A_1 \\cap A_2 \\cap ... \\cap A_n) = P(A_1)P(A_2) ... P(A_n)$$"
   ]
  },
  {
   "cell_type": "code",
   "execution_count": 1,
   "metadata": {},
   "outputs": [],
   "source": [
    "from fractions import Fraction as F\n",
    "import matplotlib.pyplot as plt\n",
    "import random"
   ]
  },
  {
   "cell_type": "markdown",
   "metadata": {},
   "source": [
    "## Câu hỏi mở đầu"
   ]
  },
  {
   "cell_type": "markdown",
   "metadata": {},
   "source": [
    "**Bài 1.** Có 2 hộp bi: hộp I gồm 10 Đen và 5 Đỏ, hộp II gồm 8 Đen và 14 Đỏ.  Chọn ngẫu nhiên 1 hộp, từ đó tiếp tục bốc ngẫu nhiên 1 viên. Khả năng bốc trúng màu nào lớn hơn?"
   ]
  },
  {
   "cell_type": "markdown",
   "metadata": {},
   "source": [
    "**Bài 2.** Một lớp có số lượng học sinh phân theo giới tính và học lực như bảng sau:\n",
    "  \n",
    "|          | Giỏi   | Không Giỏi | Tổng   |\n",
    "|----------|--------|------------|--------|\n",
    "| **Nữ**   | 6      | 14         | **20** |\n",
    "| **Nam**  | 9      | 21         | **30** |\n",
    "| **Tổng** | **15** | **35**     | **50** |\n",
    "\n",
    "Chọn ngẫu nhiên 1 học sinh trong lớp:\n",
    "\n",
    "a) Tính xác suất chọn được nữ.\n",
    "  \n",
    "b) Tính xác suất chọn được giỏi.\n",
    "  \n",
    "c) Tính xác suất chọn được nữ giỏi.\n",
    "  \n",
    "d) Tính xác suất chọn được giỏi khi biết học sinh được chọn là nữ.\n",
    "  \n",
    "e) Tính xác suất chọn được nữ khi biết học sinh được chọn là giỏi.\n",
    "  \n",
    "f) Giới tính và học lực có \"liên quan xác suất\" nhau không?  "
   ]
  },
  {
   "cell_type": "markdown",
   "metadata": {},
   "source": [
    "**Bài 3.** Rút ngẫu nhiên 4 lá bài (không hoàn lại) từ bộ bài Tây:\n",
    "  \n",
    "  a) Tính xác suất được 4 lá cùng số.\n",
    "  \n",
    "  b) Tính xác suất được 4 lá cùng chất. \n",
    "  \n",
    "  c) Số và chất có \"liên quan xác suất\" nhau không?"
   ]
  },
  {
   "cell_type": "markdown",
   "metadata": {},
   "source": [
    "**Bài 4.** (Monty Hall problem) Có 3 cửa #1, #2, #3 chứa 1 xe và 2 con dê. Người chơi chọn 1 cửa (chẳng hạn #1). Người dẫn chương trình biết cửa nào có gì. Người dẫn chọn và mở cửa có dê trong 2 cửa còn lại (chẳng hạn #3). Người dẫn hỏi người chơi có muốn đổi lựa chọn không (vẫn giữ #1 hay chọn #2). Người chơi nên giữ hay đổi (để khả năng được xe cao hơn)?"
   ]
  },
  {
   "cell_type": "markdown",
   "metadata": {},
   "source": [
    "**Bài 5.** Giả sử một người đi xét nghiệm một bệnh nan y và được kết quả là *dương tính* (positive). Biết rằng:\n",
    "  * *Độ nhạy* (sensitive) của xét nghiệm là 90%: nghĩa là, trong 100 người bị bệnh thì khoảng 90 người cho kết quả xét nghiệm dương tính.\n",
    "  * *Độ đặc hiệu* (specificity) của xét nghiệm là 95%: nghĩa là, trong 100 người không bệnh thì khoảng 95 người cho kết quả xét nghiệm âm tính.\n",
    "  * *Độ phổ biến* (prevalence) của bệnh là 1/10000: nghĩa là, trong 10000 người thì có khoảng 1 người bị bệnh.\n",
    "\n",
    "a) Hỏi khả năng người đó thực sự mắc bệnh là cao không?\n",
    "  \n",
    "b) Giả sử để chắc ăn, họ xét nghiệm một lần nữa và vẫn ra dương tính! Hỏi lúc này thì thế nào?\n",
    "  \n",
    "c) Ta có nên xét nghiệm không? Ý nghĩa \"thật sự\" của việc xét nghiệm là gì?"
   ]
  },
  {
   "cell_type": "markdown",
   "metadata": {},
   "source": [
    "## Trả lời câu hỏi"
   ]
  },
  {
   "cell_type": "markdown",
   "metadata": {},
   "source": [
    "### Câu 1"
   ]
  },
  {
   "cell_type": "markdown",
   "metadata": {},
   "source": [
    "Đặt các biến cố:\n",
    "* $E$ là \"bốc được bi đỏ\"\n",
    "* $A$ là \"bốc được bi của hộp I\", $A^c$ là \"bốc được bi của hộp II\""
   ]
  },
  {
   "cell_type": "markdown",
   "metadata": {},
   "source": [
    "Theo đề ta có:\n",
    "$$P(A) = P(A^c) = \\frac{1}{2}$$\n",
    "$$P(E|A) = \\frac{5}{15}$$\n",
    "$$P(E|A^c) = \\frac{14}{22}$$"
   ]
  },
  {
   "cell_type": "markdown",
   "metadata": {},
   "source": [
    "Dùng công thức xác suất toàn phần với họ đầy đủ $\\{A, A^c\\}$, ta có xác suất bốc được bi đỏ là:\n",
    "$$P(E) = P(A)P(E|A) + P(A^c)P(E|A^c) = \\frac{1}{2} \\times \\frac{5}{15} + \\frac{1}{2} \\times \\frac{14}{22}$$"
   ]
  },
  {
   "cell_type": "code",
   "execution_count": 2,
   "metadata": {
    "variables": {
     "(1/2)<em>(5/15) + (1/2)</em>(14/22)": "<p><strong>SyntaxError</strong>: invalid syntax (<ipython-input-5-e883309d2d40>, line 1)</p>\n"
    }
   },
   "outputs": [
    {
     "data": {
      "text/plain": [
       "0.48484848484848486"
      ]
     },
     "execution_count": 2,
     "metadata": {},
     "output_type": "execute_result"
    }
   ],
   "source": [
    "(1/2)*(5/15) + (1/2)*(14/22)"
   ]
  },
  {
   "cell_type": "markdown",
   "metadata": {},
   "source": [
    "Vậy khả năng bốc được bi đen lớn hơn."
   ]
  },
  {
   "cell_type": "markdown",
   "metadata": {},
   "source": [
    "### Câu 2"
   ]
  },
  {
   "cell_type": "markdown",
   "metadata": {},
   "source": [
    "Đặt các biến cố:\n",
    "* $E$ là \"chọn được nữ\"\n",
    "* $F$ là \"chọn được giỏi\""
   ]
  },
  {
   "cell_type": "markdown",
   "metadata": {},
   "source": [
    "a) Từ \"cột Tổng\", ta có xác suất chọn được nữ là: \n",
    "$$P(E) = \\frac{20}{50}$$"
   ]
  },
  {
   "cell_type": "code",
   "execution_count": 3,
   "metadata": {},
   "outputs": [
    {
     "data": {
      "text/plain": [
       "0.4"
      ]
     },
     "execution_count": 3,
     "metadata": {},
     "output_type": "execute_result"
    }
   ],
   "source": [
    "20/50"
   ]
  },
  {
   "cell_type": "markdown",
   "metadata": {},
   "source": [
    "b) Từ \"dòng Tổng\", ta có xác suất chọn được giỏi là: \n",
    "$$P(F) = \\frac{15}{50}$$"
   ]
  },
  {
   "cell_type": "code",
   "execution_count": 4,
   "metadata": {},
   "outputs": [
    {
     "data": {
      "text/plain": [
       "0.3"
      ]
     },
     "execution_count": 4,
     "metadata": {},
     "output_type": "execute_result"
    }
   ],
   "source": [
    "15/50"
   ]
  },
  {
   "cell_type": "markdown",
   "metadata": {},
   "source": [
    "c) Từ \"cả bảng\", ta có xác suất chọn được nữ giỏi là: \n",
    "$$P(E \\cap F) = \\frac{6}{50}$$"
   ]
  },
  {
   "cell_type": "code",
   "execution_count": 5,
   "metadata": {},
   "outputs": [
    {
     "data": {
      "text/plain": [
       "0.12"
      ]
     },
     "execution_count": 5,
     "metadata": {},
     "output_type": "execute_result"
    }
   ],
   "source": [
    "6/50"
   ]
  },
  {
   "cell_type": "markdown",
   "metadata": {},
   "source": [
    "d) Từ \"dòng Nữ\", ta có xác suất chọn được giỏi khi biết nữ được chọn là: \n",
    "$$P(F|E) = \\frac{6}{20}$$"
   ]
  },
  {
   "cell_type": "code",
   "execution_count": 6,
   "metadata": {},
   "outputs": [
    {
     "data": {
      "text/plain": [
       "0.3"
      ]
     },
     "execution_count": 6,
     "metadata": {},
     "output_type": "execute_result"
    }
   ],
   "source": [
    "6/20"
   ]
  },
  {
   "cell_type": "markdown",
   "metadata": {},
   "source": [
    "e) Từ \"cột Giỏi\", ta có xác suất chọn được nữ khi biết giỏi được chọn là: \n",
    "$$P(E|F) = \\frac{6}{15}$$"
   ]
  },
  {
   "cell_type": "code",
   "execution_count": 7,
   "metadata": {},
   "outputs": [
    {
     "data": {
      "text/plain": [
       "0.4"
      ]
     },
     "execution_count": 7,
     "metadata": {},
     "output_type": "execute_result"
    }
   ],
   "source": [
    "6/15"
   ]
  },
  {
   "cell_type": "markdown",
   "metadata": {},
   "source": [
    "f) Từ Câu (a), (b), (c) (hoặc từ Câu (a) và (e) hoặc Câu (b) và (d)), ta thấy giới tính và học lực \"không liên quan xác suất\"."
   ]
  },
  {
   "cell_type": "markdown",
   "metadata": {},
   "source": [
    "Cụ thể, ta có $P(E \\cap F) = P(E)P(F)$ nên $E, F$ độc lập nhau."
   ]
  },
  {
   "cell_type": "markdown",
   "metadata": {},
   "source": [
    "Ta cũng có thể kết luận tương tự từ việc $P(E|F) = P(E)$ hay $P(F|E) = P(F)$."
   ]
  },
  {
   "cell_type": "markdown",
   "metadata": {},
   "source": [
    "**Bài 3.** Rút ngẫu nhiên 4 lá bài (không hoàn lại) từ bộ bài Tây:\n",
    "  \n",
    "  a) Tính xác suất được 4 lá cùng số.\n",
    "  \n",
    "  b) Tính xác suất được 4 lá cùng chất. \n",
    "  \n",
    "  c) Số và chất có \"liên quan xác suất\" nhau không?"
   ]
  },
  {
   "cell_type": "markdown",
   "metadata": {},
   "source": [
    "### Câu 3"
   ]
  },
  {
   "cell_type": "markdown",
   "metadata": {},
   "source": [
    "Giả sử rút lần lượt 4 lá. (\"Rõ ràng\" việc rút lần lượt hay \"đồng thời\" không quan trọng vì không hoàn lại.)"
   ]
  },
  {
   "cell_type": "markdown",
   "metadata": {},
   "source": [
    "Đặt các biến cố:\n",
    "* $E$ là \"rút được 4 lá cùng số\"\n",
    "* $F$ là \"rút được 4 lá cùng chất\""
   ]
  },
  {
   "cell_type": "markdown",
   "metadata": {},
   "source": [
    "a) Đặt $A_i$ là biến cố \"lần rút thứ $i$ được lá 2\" $(1 \\le i \\le 4)$"
   ]
  },
  {
   "cell_type": "markdown",
   "metadata": {},
   "source": [
    "Dùng công thức nhân, ta có xác suất rút được cả 4 lá 2 là:\n",
    "$$\\begin{align*}\n",
    "    P(A_1 A_2 A_3 A_4) &= P(A_1)P(A_2|A_1)P(A_3|A_1 A_2)P(A_4|A_1 A_2 A_3)\\\\\n",
    "                       &= \\frac{4}{52} \\frac{3}{51} \\frac{2}{50} \\frac{1}{49}\n",
    "\\end{align*}$$"
   ]
  },
  {
   "cell_type": "code",
   "execution_count": 8,
   "metadata": {},
   "outputs": [
    {
     "data": {
      "text/plain": [
       "3.6937852063902484e-06"
      ]
     },
     "execution_count": 8,
     "metadata": {},
     "output_type": "execute_result"
    }
   ],
   "source": [
    "P_2 = (4/52)*(3/51)*(2/50)*(1/49)\n",
    "P_2"
   ]
  },
  {
   "cell_type": "markdown",
   "metadata": {},
   "source": [
    "\"Do tính đối xứng\" nên xác suất rút được cả 4 lá cùng số khác cũng bằng xác suất rút được cả 4 lá 2. Hơn nữa các biến cố này là xung khắc nên ta có xác suất rút được 4 lá cùng số là:\n",
    "$$P(E) = 13 P(A_1 A_2 A_3 A_4)$$"
   ]
  },
  {
   "cell_type": "code",
   "execution_count": 9,
   "metadata": {},
   "outputs": [
    {
     "data": {
      "text/plain": [
       "4.801920768307323e-05"
      ]
     },
     "execution_count": 9,
     "metadata": {},
     "output_type": "execute_result"
    }
   ],
   "source": [
    "13 * P_2"
   ]
  },
  {
   "cell_type": "markdown",
   "metadata": {},
   "source": [
    "Xác suất để rút được 4 lá cùng chất:\n",
    "$$4\\frac{C_{13}^4}{C_{52}^4} = 4\\frac{\\frac{13!}{4!9!}}{\\frac{52!}{4!48!}}$$"
   ]
  },
  {
   "cell_type": "markdown",
   "metadata": {},
   "source": [
    "b) Tương tự ta có:\n",
    "$$P(F) = 4 \\frac{13}{52} \\frac{12}{51} \\frac{11}{50} \\frac{10}{49}$$"
   ]
  },
  {
   "cell_type": "code",
   "execution_count": 10,
   "metadata": {},
   "outputs": [
    {
     "data": {
      "text/plain": [
       "0.01056422569027611"
      ]
     },
     "execution_count": 10,
     "metadata": {},
     "output_type": "execute_result"
    }
   ],
   "source": [
    "4*(13/52)*(12/51)*(11/50)*(10/49)"
   ]
  },
  {
   "cell_type": "markdown",
   "metadata": {},
   "source": [
    "c) Rõ ràng số và chất có \"liên quan xác suất\" vì nếu được 4 lá cùng số thì không thể được 4 lá cùng chất."
   ]
  },
  {
   "cell_type": "markdown",
   "metadata": {},
   "source": [
    "Cụ thể, ta có $P(F) > 0$ nhưng $P(F|E) = 0$ nên $E, F$ không độc lập."
   ]
  },
  {
   "cell_type": "markdown",
   "metadata": {},
   "source": [
    "### Câu 4"
   ]
  },
  {
   "cell_type": "markdown",
   "metadata": {},
   "source": [
    "Xem thêm \"Monty Hall problem\" tại [Link](https://www.adit.io/posts/2022-11-27-the-monty-hall-problem-in-pictures.html)."
   ]
  },
  {
   "cell_type": "markdown",
   "metadata": {},
   "source": [
    "Do \"tính đối xứng\" nên ta có thể giả sử kịch bản như mô tả (người chơi chọn cửa #1, người dẫn mở cửa #3). Đặt $A_i$ là biến cố \"xe được đặt ở cửa #$i$\" $(1 \\le i \\le 3)$ và $B_j$ là biến cố \"người dẫn mở cửa #$j$\" $(1 \\le j \\le 3)$. Từ đề và kịch bản đã cho (người chơi chọn  cửa #1), ta có:\n",
    "* $P(A_1) = P(A_2) = P(A_3) = \\frac{1}{3}$\n",
    "* $P(B_3|A_1) = \\frac{1}{2}$ (người chơi đã chọn cửa #1, xe cũng được đặt ở cửa #1 nên người dẫn có thể mở 1 trong 2 cửa #2, #3)\n",
    "* $P(B_3|A_2) = 1$ (người chơi đã chọn cửa #1, xe được đặt ở cửa #2 nên người dẫn chỉ có thể mở cửa #3)\n",
    "* $P(B_3|A_3) = 0$ (xe được đặt ở cửa #3 nên người dẫn không được mở cửa #3)\n",
    "Dùng công thức Bayes, ta có xác suất người chơi được xe khi không đổi cửa là:\n",
    "\\begin{align*}\n",
    "    P(A_1|B_3) &= \\frac{P(A_1)P(B_3|A_1)}{P(A_1)P(B_3|A_1) + P(A_2)P(B_3|A_2) + P(A_3)P(B_3|A_3)}\\\\\n",
    "               &= \\frac{\\frac{1}{3}\\frac{1}{2}}{\\frac{1}{3}\\frac{1}{2} + \\frac{1}{3}1 + \\frac{1}{3}0}\\\\\n",
    "               &= \\frac{1}{3}\n",
    "\\end{align*}\n",
    "Dùng công thức Bayes, ta có xác suất người chơi được xe khi đổi cửa là:\n",
    "\\begin{align*}\n",
    "    P(A_2|B_3) &= \\frac{P(A_2)P(B_3|A_2)}{P(A_1)P(B_3|A_1) + P(A_2)P(B_3|A_2) + P(A_3)P(B_3|A_3)}\\\\\n",
    "               &= \\frac{\\frac{1}{3}1}{\\frac{1}{3}\\frac{1}{2} + \\frac{1}{3}1 + \\frac{1}{3}0}\\\\\n",
    "               &= \\frac{2}{3}\n",
    "\\end{align*}\n",
    "Vậy người chơi nên chọn đổi cửa (xác suất được xe cao gấp đôi so với không đổi cửa)."
   ]
  },
  {
   "cell_type": "markdown",
   "metadata": {},
   "source": []
  },
  {
   "cell_type": "markdown",
   "metadata": {},
   "source": []
  },
  {
   "cell_type": "markdown",
   "metadata": {},
   "source": []
  },
  {
   "cell_type": "markdown",
   "metadata": {},
   "source": []
  },
  {
   "cell_type": "markdown",
   "metadata": {},
   "source": []
  },
  {
   "attachments": {
    "image.png": {
     "image/png": "[encoded data removed]"
    }
   },
   "cell_type": "markdown",
   "metadata": {},
   "source": [
    "Xem thêm cách dùng sơ đồ cây (tree diagram) để phân tích tại \n",
    "![image.png](attachment:image.png)"
   ]
  },
  {
   "cell_type": "markdown",
   "metadata": {},
   "source": [
    "### Câu 5"
   ]
  },
  {
   "cell_type": "markdown",
   "metadata": {},
   "source": [
    "Đặt các biến cố:\n",
    "* $D$ là \"kết quả xét nghiệm dương tính\"\n",
    "* $B$ là \"bị bệnh\""
   ]
  },
  {
   "cell_type": "markdown",
   "metadata": {},
   "source": [
    "Đề cho các thông số của xét nghiệm:"
   ]
  },
  {
   "cell_type": "markdown",
   "metadata": {},
   "source": [
    "* Độ nhạy hay **năng lực** (power):\n",
    "  $$P(D|B) = 0.9$$\n",
    "  Từ đó ta có: $P(D^c|B) = 1 - P(D|B) = 0.1$. Xác suất này thường được gọi là **tỉ lệ âm tính giả** (false negative rate) hay xác suất **sai lầm loại 2** (type II error), kí hiệu là $\\beta$."
   ]
  },
  {
   "cell_type": "markdown",
   "metadata": {},
   "source": [
    "* Độ đặc hiệu:\n",
    "  $$P(D^c|B^c) = 0.95$$\n",
    "  Từ đó ta có: $P(D|B^c) = 1 - P(D^c|B^c) = 0.05$. Xác suất này thường được gọi là **tỉ lệ dương tính giả** (false positive rate) hay xác suất **sai lầm loại 1** (type I error) hay **mức ý nghĩa** (significance level), kí hiệu là $\\alpha$."
   ]
  },
  {
   "cell_type": "markdown",
   "metadata": {},
   "source": [
    "*Lưu ý*:"
   ]
  },
  {
   "cell_type": "markdown",
   "metadata": {},
   "source": [
    "* Ta dễ dàng có độ nhạy hay độ đặc hiệu tốt riêng lẻ (chẳng hạn, xét nghiệm luôn báo dương tính sẽ có độ nhạy là 100%) nhưng không thể đồng thời tốt cả 2."
   ]
  },
  {
   "cell_type": "markdown",
   "metadata": {},
   "source": [
    "* Tùy trường hợp mà ta ưu tiên độ nhạy hay độ đặc hiệu hơn. Thông thường, độ đặc hiệu thường được quan tâm hơn vì rất nguy hiểm khi báo dương tính sai (như xét nghiệm HIV, báo dương tính sai sẽ dẫn đến suy sụp). Ngược lại, độ nhạy được quan tâm hơn khi việc báo âm tính sai để lại hậu quả lớn (như xét nghiệm COVID-19, báo âm tính sai sẽ dẫn đến lây lan)."
   ]
  },
  {
   "cell_type": "code",
   "execution_count": 11,
   "metadata": {},
   "outputs": [],
   "source": [
    "P_DB = 90/100; P_DcBc = 95/100"
   ]
  },
  {
   "cell_type": "markdown",
   "metadata": {},
   "source": [
    "a) Đề cho độ phổ biến của bệnh là $10^{-4}$. Ta có thể dùng tỉ lệ này để \"ước tính\" xác suất bị bệnh khi chưa thực hiện xét nghiệm, gọi là xác suất tiên nghiệm:\n",
    "$$P(B) = 0.0001$$\n",
    "Từ đó ta cũng có: $P(B^c) = 1 - P(B) = 0.9999$."
   ]
  },
  {
   "cell_type": "markdown",
   "metadata": {},
   "source": [
    "Dùng công thức Bayes, ta có xác suất bị bệnh khi xét nghiệm dương tính, gọi là xác suất hậu nghiệm:\n",
    "\\begin{align*}\n",
    "    P(B|D) &= \\frac{P(B)P(D|B)}{P(B)P(D|B) + P(B^c)P(D|B^c)}\\\\\n",
    "           &= \\frac{0.0001 \\times 0.9}{0.0001 \\times 0.9 + 0.9999 \\times 0.05}\n",
    "\\end{align*}"
   ]
  },
  {
   "cell_type": "code",
   "execution_count": 12,
   "metadata": {
    "scrolled": true
   },
   "outputs": [
    {
     "name": "stdout",
     "output_type": "stream",
     "text": [
      "0.0018\n"
     ]
    }
   ],
   "source": [
    "P_B = 1/10**4\n",
    "P_BD = P_B*P_DB/(P_B*P_DB + (1 - P_B)*(1 - P_DcBc))\n",
    "print(\"%.4f\" % P_BD)"
   ]
  },
  {
   "cell_type": "markdown",
   "metadata": {},
   "source": [
    "*Nhận xét*: xác suất này \"không lớn lắm\"."
   ]
  },
  {
   "cell_type": "markdown",
   "metadata": {},
   "source": [
    "b) Trước khi tiến hành xét nghiệm lần 2 ta đã có xác suất hậu nghiệm sau khi xét nghiệm lần 1. Ta có thể dùng xác suất này để \"ước tính\" xác suất bị bệnh khi chưa thực hiện xét nghiệm lần 2 (tức là dùng xác suất hậu nghiệm của lần 1 làm tiên nghiệm của lần 2):\n",
    "$$P(B) = 0.0018$$\n",
    "Từ đó ta cũng có: $P(B^c) = 1 - P(B) = 0.9982$."
   ]
  },
  {
   "cell_type": "markdown",
   "metadata": {},
   "source": [
    "Dùng công thức Bayes, ta có xác suất bị bệnh khi xét nghiệm dương tính lần 2 là:\n",
    "\\begin{align*}\n",
    "    P(B|D) &= \\frac{P(B)P(D|B)}{P(B)P(D|B) + P(B^c)P(D|B^c)}\\\\\n",
    "           &= \\frac{0.0018 \\times 0.9}{0.0018 \\times 0.9 + 0.9982 \\times 0.05}\n",
    "\\end{align*}"
   ]
  },
  {
   "cell_type": "code",
   "execution_count": 13,
   "metadata": {
    "scrolled": true
   },
   "outputs": [
    {
     "name": "stdout",
     "output_type": "stream",
     "text": [
      "0.0314\n"
     ]
    }
   ],
   "source": [
    "P_B2 = P_BD\n",
    "P_BD2 = P_B2*P_DB/(P_B2*P_DB + (1 - P_B2)*(1 - P_DcBc))\n",
    "print(\"%.4f\" % P_BD2)"
   ]
  },
  {
   "cell_type": "markdown",
   "metadata": {},
   "source": [
    "*Nhận xét*: xác suất này \"cũng chưa lớn lắm\"."
   ]
  },
  {
   "cell_type": "markdown",
   "metadata": {},
   "source": [
    "c) Việc có nên xét nghiệm hay không tùy thuộc trước hết vào xác suất tiên nghiệm ($P(B)$) của bệnh."
   ]
  },
  {
   "cell_type": "markdown",
   "metadata": {},
   "source": [
    "* Trường hợp xác suất tiên nghiệm thấp: như ta \"không làm gì để nghi nhiễm HIV\" hay không nằm trong nhóm nguy cơ cao nhiễm COVID-19 (không về từ vùng dịch, không tiếp xúc với người đã nhiễm bệnh) thì không nên xét nghiệm như tính toán trên cho thấy. Việc xét nghiệm tốn kém và thậm chí là \"tiền mất tật mang\" nếu xét nghiệm có tỉ lệ dương tính giả cao (tức là độ đặc hiệu thấp)."
   ]
  },
  {
   "cell_type": "markdown",
   "metadata": {},
   "source": [
    "* Trường hợp xác suất tiên nghiệm cao: như ta vừa phơi nhiễm HIV hay nằm trong nhóm nguy cơ cao nhiễm COVID-19 thì nên xét nghiệm. Chẳng hạn, với xác suất tiên nghiệm $P(B) = 50\\%$ thì xác suất hậu nghiệm, $P(B|D)$ là:"
   ]
  },
  {
   "cell_type": "code",
   "execution_count": 14,
   "metadata": {},
   "outputs": [
    {
     "name": "stdout",
     "output_type": "stream",
     "text": [
      "0.9474\n"
     ]
    }
   ],
   "source": [
    "P_B = 50/100\n",
    "P_BD = P_B*P_DB/(P_B*P_DB + (1 - P_B)*(1 - P_DcBc))\n",
    "print(\"%.4f\" % P_BD)"
   ]
  },
  {
   "cell_type": "markdown",
   "metadata": {},
   "source": [
    "*Nhận xét*: xác suất này rất cao!"
   ]
  },
  {
   "cell_type": "markdown",
   "metadata": {},
   "source": [
    "Ý nghĩa của xét nghiệm không chỉ nằm ở trường hợp ra dương tính. Trường hợp ra âm tính cũng rất có ý nghĩa. Chẳng hạn, ta nằm trong nhóm nguy cơ cao nhiễm COVID-19 với xác suất tiên nghiệm $P(B) = 50\\%$. Với các thông số của xét nghiệm như trên và xét nghiệm ra âm tính, xác suất hậu nghiệm khi đó là:\n",
    "$$P(B|D^c) = \\frac{P(B)P(D^c|B)}{P(B)P(D^c|B) + P(B^c)P(D^c|B^c)}$$"
   ]
  },
  {
   "cell_type": "markdown",
   "metadata": {},
   "source": [
    "Thế số ta có:"
   ]
  },
  {
   "cell_type": "code",
   "execution_count": 15,
   "metadata": {},
   "outputs": [
    {
     "name": "stdout",
     "output_type": "stream",
     "text": [
      "0.0952\n"
     ]
    }
   ],
   "source": [
    "P_B = 50/100\n",
    "P_BDc = P_B*(1 - P_DB)/(P_B*(1 - P_DB) + (1 - P_B)*P_DcBc)\n",
    "print(\"%.4f\" % P_BDc)"
   ]
  },
  {
   "cell_type": "markdown",
   "metadata": {},
   "source": [
    "*Nhận xét*: xác suất này \"thấp\"."
   ]
  },
  {
   "cell_type": "markdown",
   "metadata": {},
   "source": [
    "Thật ra, với tình hình COVID-19 hiện nay ở nước ta (ít dụng cụ xét nghiệm, rất ít người nhiễm và nếu không cách ly người nhiễm sẽ làm lây lan rất nhiều) thì ta nên dùng xét nghiệm có độ nhạy cao (chấp nhận giảm độ đặc hiệu), ưu tiên xét nghiệm những người có nguy cơ cao và chú trọng đến kết quả âm tính."
   ]
  },
  {
   "cell_type": "markdown",
   "metadata": {},
   "source": [
    "Chẳng hạn dùng xét nghiệm có:\n",
    "* Độ nhạy: $P(D|B) = 99.9\\%$\n",
    "* Độ đặc hiệu: $P(D^c|B^c) = 80\\%$"
   ]
  },
  {
   "cell_type": "markdown",
   "metadata": {},
   "source": [
    "Người có nguy cơ nhiễm cao với $P(B) = 50\\%$, khi xét nghiệm ra âm tính, thì xác suất bị nhiễm $P(B|D^c)$ là:"
   ]
  },
  {
   "cell_type": "code",
   "execution_count": 16,
   "metadata": {},
   "outputs": [
    {
     "name": "stdout",
     "output_type": "stream",
     "text": [
      "0.0012\n"
     ]
    }
   ],
   "source": [
    "P_DB = 99.9/100; P_DcBc = 80/100\n",
    "P_B = 50/100\n",
    "P_BDc = P_B*(1 - P_DB)/(P_B*(1 - P_DB) + (1 - P_B)*P_DcBc)\n",
    "print(\"%.4f\" % P_BDc)"
   ]
  },
  {
   "cell_type": "markdown",
   "metadata": {},
   "source": [
    "*Nhận xét*: xác suất này khá thấp!"
   ]
  },
  {
   "cell_type": "markdown",
   "metadata": {},
   "source": [
    "Để chắc ăn hơn, ta xét nghiệm lần nữa và nếu vẫn âm tính thì xác suất bị nhiễm khi đó là:"
   ]
  },
  {
   "cell_type": "code",
   "execution_count": 17,
   "metadata": {},
   "outputs": [
    {
     "name": "stdout",
     "output_type": "stream",
     "text": [
      "0.00000156\n"
     ]
    }
   ],
   "source": [
    "P_B2 = P_BDc\n",
    "P_BDc2 = P_B2*(1 - P_DB)/(P_B2*(1 - P_DB) + (1 - P_B2)*P_DcBc)\n",
    "print(\"%.8f\" % P_BDc2)"
   ]
  },
  {
   "cell_type": "markdown",
   "metadata": {},
   "source": [
    "*Nhận xét*: xác suất này rất thấp!"
   ]
  },
  {
   "cell_type": "markdown",
   "metadata": {},
   "source": [
    "Để chắc ăn hơn nữa, ta xét nghiệm lần 3 và nếu vẫn âm tính thì xác suất bị nhiễm khi đó là:"
   ]
  },
  {
   "cell_type": "code",
   "execution_count": 18,
   "metadata": {},
   "outputs": [
    {
     "name": "stdout",
     "output_type": "stream",
     "text": [
      "0.0000000020\n"
     ]
    }
   ],
   "source": [
    "P_B3 = P_BDc2\n",
    "P_BDc3 = P_B3*(1 - P_DB)/(P_B3*(1 - P_DB) + (1 - P_B3)*P_DcBc)\n",
    "print(\"%.10f\" % P_BDc3)"
   ]
  },
  {
   "cell_type": "markdown",
   "metadata": {},
   "source": [
    "*Nhận xét*: xác suất này cực thấp!"
   ]
  },
  {
   "cell_type": "markdown",
   "metadata": {},
   "source": [
    "## Bài tập\n",
    "\n",
    "> SV hoàn thành các bài tập sau đây."
   ]
  },
  {
   "cell_type": "markdown",
   "metadata": {},
   "source": [
    "### Bài tập 1."
   ]
  },
  {
   "cell_type": "markdown",
   "metadata": {},
   "source": [
    "a) Tung một con xúc xắc và cho biết rằng thu được mặt lẻ. Tính xác suất để mặt đó không vượt quá $3.$\n",
    "\n",
    "b) Bốc ngẫu nhiên một lá bài và biết rằng lá đó màu đỏ. Tính xác suất để lá đó là $10.$\n",
    "\n",
    "c) Tung ngẫu nhiên hai con xúc xắc và cho biết rằng tổng các mặt là $7$. Tính xác suất để con xúc xắc $1$ là lớn hơn $4.$"
   ]
  },
  {
   "cell_type": "markdown",
   "metadata": {},
   "source": [
    "a)  \n",
    "A : mặt đó không vượt quá 3  \n",
    "B : mặt đó là mặt lẻ  \n",
    "P(A|B) = $\\frac{P(B.A)}{P(B)}$"
   ]
  },
  {
   "cell_type": "code",
   "execution_count": 3,
   "metadata": {},
   "outputs": [
    {
     "name": "stdout",
     "output_type": "stream",
     "text": [
      "0.6666666666666666\n"
     ]
    }
   ],
   "source": [
    "Pa_b = (2/6)/(3/6)\n",
    "print(Pa_b)"
   ]
  },
  {
   "cell_type": "markdown",
   "metadata": {},
   "source": [
    "b)  \n",
    "A: lá đỏ  \n",
    "B: lá 10\n",
    "P(B|A) = $\\frac{P(B.A)}{P(A)}$   "
   ]
  },
  {
   "cell_type": "code",
   "execution_count": 5,
   "metadata": {},
   "outputs": [
    {
     "name": "stdout",
     "output_type": "stream",
     "text": [
      "0.07692307692307693\n"
     ]
    }
   ],
   "source": [
    "Pa = 1/2\n",
    "Pb = 1/13\n",
    "Pab = 1/2*1/13\n",
    "Pb_a = Pab / Pa\n",
    "print(Pb_a)"
   ]
  },
  {
   "cell_type": "markdown",
   "metadata": {},
   "source": [
    "c)  \n",
    "A : x1 + x2 = 7\n",
    "B : x1 = 4\n"
   ]
  },
  {
   "cell_type": "code",
   "execution_count": 23,
   "metadata": {},
   "outputs": [
    {
     "name": "stdout",
     "output_type": "stream",
     "text": [
      "0.16666666666666666\n"
     ]
    }
   ],
   "source": [
    "a = [(i,j) for i in range(1,7) for j in range(1,7) if( i+j == 7)]\n",
    "omega = [(i,j) for i in range(1,7) for j in range(1,7)] \n",
    "Na = len(a)\n",
    "No = len(omega)\n",
    "Pa = Na/No\n",
    "Pb = 6/No\n",
    "Pb_a = Pa*Pb/Pa\n",
    "print(Pb_a)\n"
   ]
  },
  {
   "cell_type": "markdown",
   "metadata": {},
   "source": [
    "### Bài tập 2."
   ]
  },
  {
   "cell_type": "markdown",
   "metadata": {},
   "source": [
    "Trên bàn, có 3 túi và mỗi túi có chứa $100$ viên bi. Biết rằng: túi 1 có $75$ đỏ, $25$ xanh; túi 2 có $60$ đỏ, $40$ xanh; túi 3 có $45$ đỏ và $55$ xanh. Chọn ngẫu nhiên ra một túi và tiếp tục bốc ngẫu nhiên ra một bi từ đó. Tính xác suất bốc được bi đỏ."
   ]
  },
  {
   "cell_type": "code",
   "execution_count": null,
   "metadata": {},
   "outputs": [],
   "source": [
    "#CODE HERE"
   ]
  },
  {
   "cell_type": "markdown",
   "metadata": {},
   "source": [
    "### Bài tập 3."
   ]
  },
  {
   "cell_type": "markdown",
   "metadata": {},
   "source": [
    "Một hộp có 2 đồng xu: một đồng bình thường (có 2 mặt số 0 và 1), và một đồng fake có hai mặt đều là 1. Chọn ngẫu nhiên một đồng và tung nó 2 lần. Xét các xác suất sau đây:\n",
    "\n",
    "* A: lần đầu tung được mặt 1.\n",
    "* B: lần hai tung được mặt 1.\n",
    "* C: đồng xu bình thường được chọn.\n",
    "\n",
    "Tính các xác suất sau đây: $P(A|C), P(B|C), P(A + B|C), P(A), P(B), P(AB).$"
   ]
  },
  {
   "cell_type": "code",
   "execution_count": null,
   "metadata": {},
   "outputs": [],
   "source": [
    "#CODE HERE"
   ]
  },
  {
   "cell_type": "markdown",
   "metadata": {},
   "source": [
    "### Bài tập 4."
   ]
  },
  {
   "cell_type": "markdown",
   "metadata": {},
   "source": [
    "Giả sử rằng ở khu phố của bạn, trời mưa 1/3 số ngày trong năm. Lúc trời mưa, việc tắc đường sẽ xảy ra với xác suất 1/2 , và nếu trời không mưa, việc tắc đường sẽ xảy ra với xác suất 1/4 . Nếu trời mưa và có tắc đường, bạn sẽ đi làm muộn với xác suất là 1/2. Mặt khác, xác suất đến muộn giảm xuống còn 1/8 nếu trời không mưa và không có tắc đường. Trong các tình huống khác (trời mưa và tắc đường, không mưa và tắc đường) xác suất đến muộn là 1/4. Bạn chọn một ngày ngẫu nhiên.\n",
    "\n",
    " \n",
    "a) Xác suất để trời vừa không mưa, vừa có tắc đường và bạn vừa không đến trễ là bao nhiêu?\n",
    "\n",
    "b) Xác suất bạn đi làm muộn là bao nhiêu?\n",
    "\n",
    "c) Cho rằng bạn đi làm muộn, xác suất trời mưa vào ngày hôm đó là bao nhiêu?"
   ]
  },
  {
   "cell_type": "code",
   "execution_count": null,
   "metadata": {},
   "outputs": [],
   "source": [
    "#CODE HERE"
   ]
  }
 ],
 "metadata": {
  "hide_input": false,
  "kernelspec": {
   "display_name": "Python 3",
   "language": "python",
   "name": "python3"
  },
  "language_info": {
   "codemirror_mode": {
    "name": "ipython",
    "version": 3
   },
   "file_extension": ".py",
   "mimetype": "text/x-python",
   "name": "python",
   "nbconvert_exporter": "python",
   "pygments_lexer": "ipython3",
   "version": "3.8.5"
  }
 },
 "nbformat": 4,
 "nbformat_minor": 4
}
